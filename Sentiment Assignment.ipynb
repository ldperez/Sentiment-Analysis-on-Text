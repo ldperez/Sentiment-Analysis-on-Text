{
 "cells": [
  {
   "cell_type": "markdown",
   "id": "7f79baf9",
   "metadata": {},
   "source": [
    "# ADS 509 Sentiment Assignment\n",
    "\n",
    "This notebook holds the Sentiment Assignment for Module 6 in ADS 509, Applied Text Mining. Work through this notebook, writing code and answering questions where required. \n",
    "\n",
    "In a previous assignment you put together Twitter data and lyrics data on two artists. In this assignment we apply sentiment analysis to those data sets. If, for some reason, you did not complete that previous assignment, data to use for this assignment can be found in the assignment materials section of Blackboard. \n"
   ]
  },
  {
   "cell_type": "markdown",
   "id": "aae8e2e1",
   "metadata": {},
   "source": [
    "## General Assignment Instructions\n",
    "\n",
    "These instructions are included in every assignment, to remind you of the coding standards for the class. Feel free to delete this cell after reading it. \n",
    "\n",
    "One sign of mature code is conforming to a style guide. We recommend the [Google Python Style Guide](https://google.github.io/styleguide/pyguide.html). If you use a different style guide, please include a cell with a link. \n",
    "\n",
    "Your code should be relatively easy-to-read, sensibly commented, and clean. Writing code is a messy process, so please be sure to edit your final submission. Remove any cells that are not needed or parts of cells that contain unnecessary code. Remove inessential `import` statements and make sure that all such statements are moved into the designated cell. \n",
    "\n",
    "Make use of non-code cells for written commentary. These cells should be grammatical and clearly written. In some of these cells you will have questions to answer. The questions will be marked by a \"Q:\" and will have a corresponding \"A:\" spot for you. *Make sure to answer every question marked with a `Q:` for full credit.* \n"
   ]
  },
  {
   "cell_type": "code",
   "execution_count": 2,
   "id": "e2d096b7",
   "metadata": {},
   "outputs": [],
   "source": [
    "import os\n",
    "import re\n",
    "import emoji\n",
    "import pandas as pd\n",
    "import numpy as np\n",
    "\n",
    "from collections import Counter, defaultdict\n",
    "from string import punctuation\n",
    "\n",
    "from nltk.corpus import stopwords\n",
    "\n",
    "sw = stopwords.words(\"english\")"
   ]
  },
  {
   "cell_type": "code",
   "execution_count": 40,
   "id": "6b555ab2",
   "metadata": {},
   "outputs": [
    {
     "name": "stderr",
     "output_type": "stream",
     "text": [
      "[nltk_data] Downloading package vader_lexicon to C:\\Users\\Luis\n",
      "[nltk_data]     Perez\\AppData\\Roaming\\nltk_data...\n",
      "[nltk_data]   Package vader_lexicon is already up-to-date!\n"
     ]
    }
   ],
   "source": [
    "# Add any additional import statements you need here\n",
    "import csv\n",
    "import nltk\n",
    "nltk.download('vader_lexicon')\n",
    "from nltk.sentiment.vader import SentimentIntensityAnalyzer\n",
    "from nltk.tokenize import word_tokenize\n",
    "import string\n",
    "import matplotlib.pyplot as plt\n",
    "import emoji"
   ]
  },
  {
   "cell_type": "code",
   "execution_count": 4,
   "id": "923b5a86",
   "metadata": {},
   "outputs": [],
   "source": [
    "# change `data_location` to the location of the folder on your machine.\n",
    "data_location = \"Users/Luis Perez/Documents/\"\n",
    "\n",
    "\n",
    "# These subfolders should still work if you correctly stored the \n",
    "# data from the Module 1 assignment\n",
    "twitter_folder = \"twitter/\"\n",
    "lyrics_folder = \"lyrics/\"\n",
    "\n",
    "positive_words_file = \"positive-words.txt\"\n",
    "negative_words_file = \"negative-words.txt\"\n",
    "tidy_text_file = \"tidytext_sentiments.txt\""
   ]
  },
  {
   "cell_type": "markdown",
   "id": "9d3bf93e",
   "metadata": {},
   "source": [
    "## Data Input\n",
    "\n",
    "Now read in each of the corpora. For the lyrics data, it may be convenient to store the entire contents of the file to make it easier to inspect the titles individually, as you'll do in the last part of the assignment. In the solution, I stored the lyrics data in a dictionary with two dimensions of keys: artist and song. The value was the file contents. A Pandas data frame would work equally well. \n",
    "\n",
    "For the Twitter data, we only need the description field for this assignment. Feel free all the descriptions read it into a data structure. In the solution, I stored the descriptions as a dictionary of lists, with the key being the artist. \n",
    "\n",
    "\n"
   ]
  },
  {
   "cell_type": "code",
   "execution_count": 5,
   "id": "37d70801",
   "metadata": {},
   "outputs": [],
   "source": [
    "# Read in the lyrics data\n",
    "\n",
    "lyrics = {}\n",
    "\n",
    "# Define the artist names and file paths\n",
    "artists = {\n",
    "    'cher': '/Users/Luis Perez/Documents/lyrics/cher',\n",
    "    'robyn': '/Users/Luis Perez/Documents/lyrics/robyn'\n",
    "}\n",
    "\n",
    "for artist_name, artist_path in artists.items():\n",
    "    artist_lyrics = {}\n",
    "    # loop over files on artist folder\n",
    "    for file in os.listdir(artist_path):\n",
    "        #  if lyrics file ends with .txt\n",
    "        if file.endswith(\".txt\"):\n",
    "            song_name = file.split(\"_\")[-1].split(\".\")[0]\n",
    "            with open(os.path.join(artist_path, file), 'r') as f:\n",
    "                artist_lyrics[song_name] = f.read()\n",
    "    \n",
    "    lyrics[artist_name] = artist_lyrics\n",
    "   "
   ]
  },
  {
   "cell_type": "code",
   "execution_count": 6,
   "id": "debcac5a",
   "metadata": {},
   "outputs": [],
   "source": [
    "# Read in the twitter data\n",
    "artists = {\n",
    "    'cher': [],\n",
    "    'robyn': [],\n",
    "}\n",
    "for file in os.listdir(\"/Users/Luis Perez/Documents/twitter\"):\n",
    "    # first part of checking .txt file\n",
    "    if file.endswith(\"robynkonichiwa_follower_data.txt\"):\n",
    "        with open(os.path.join(\"/Users/Luis Perez/Documents/twitter\", file), 'r', encoding=\"utf-8\") as f:\n",
    "            csvFile = csv.DictReader(f, delimiter='\\t')\n",
    "            for row in csvFile:\n",
    "                if 'description' in row:\n",
    "                    artists['robyn'].append(row['description'])\n",
    "    # second part of checking .txt filer cher\n",
    "    elif file.endswith(\"cher_follower_data.txt\"):\n",
    "        with open(os.path.join(\"/Users/Luis Perez/Documents/twitter\", file), 'r', encoding=\"utf-8\") as f:\n",
    "            csvFile = csv.DictReader(f, delimiter='\\t')\n",
    "            for row in csvFile:\n",
    "                if 'description' in row:\n",
    "                    artists['cher'].append(row['description'])"
   ]
  },
  {
   "cell_type": "code",
   "execution_count": 261,
   "id": "af9e7a4b",
   "metadata": {},
   "outputs": [],
   "source": [
    "# Read in the positive and negative words and the\n",
    "# tidytext sentiment. Store these so that the positive\n",
    "# words are associated with a score of +1 and negative words\n",
    "# are associated with a score of -1. You can use a dataframe or a \n",
    "# dictionary for this.\n",
    "\n",
    "# Load the positive and negative words\n",
    "with open('positive-words.txt', 'r') as f:\n",
    "    for line in f:\n",
    "        if ';' in line:\n",
    "            continue\n",
    "        positive_words = [line.strip() for line in f.readlines()]\n",
    "\n",
    "with open('negative-words.txt', 'r') as f:\n",
    "     for line in f:\n",
    "        if ';' in line:\n",
    "            continue\n",
    "        negative_words = [line.strip() for line in f.readlines()]\n",
    "   \n",
    "    \n",
    "text_sentiments = pd.read_csv('tidytext_sentiments.txt', sep='\\t')\n",
    "    \n",
    "# Create dictionary of words and sentiment scores\n",
    "sentimentScores = {}\n",
    "for word in positive_words:\n",
    "    sentimentScores[word] = 1\n",
    "for word in negative_words:\n",
    "    sentimentScores[word] = -1\n",
    "\n",
    "# Create DataFrame from dictionary\n",
    "df_sentiment = pd.DataFrame.from_dict(sentimentScores, orient='index', columns=['Sentiment Score'])\n",
    "df_sentiment.index.name = 'word'\n"
   ]
  },
  {
   "cell_type": "code",
   "execution_count": 262,
   "id": "12eda0fd",
   "metadata": {},
   "outputs": [
    {
     "data": {
      "text/html": [
       "<div>\n",
       "<style scoped>\n",
       "    .dataframe tbody tr th:only-of-type {\n",
       "        vertical-align: middle;\n",
       "    }\n",
       "\n",
       "    .dataframe tbody tr th {\n",
       "        vertical-align: top;\n",
       "    }\n",
       "\n",
       "    .dataframe thead th {\n",
       "        text-align: right;\n",
       "    }\n",
       "</style>\n",
       "<table border=\"1\" class=\"dataframe\">\n",
       "  <thead>\n",
       "    <tr style=\"text-align: right;\">\n",
       "      <th></th>\n",
       "      <th>Sentiment Score</th>\n",
       "    </tr>\n",
       "    <tr>\n",
       "      <th>word</th>\n",
       "      <th></th>\n",
       "    </tr>\n",
       "  </thead>\n",
       "  <tbody>\n",
       "    <tr>\n",
       "      <th>a+</th>\n",
       "      <td>1</td>\n",
       "    </tr>\n",
       "    <tr>\n",
       "      <th>abound</th>\n",
       "      <td>1</td>\n",
       "    </tr>\n",
       "    <tr>\n",
       "      <th>abounds</th>\n",
       "      <td>1</td>\n",
       "    </tr>\n",
       "    <tr>\n",
       "      <th>abundance</th>\n",
       "      <td>1</td>\n",
       "    </tr>\n",
       "    <tr>\n",
       "      <th>abundant</th>\n",
       "      <td>1</td>\n",
       "    </tr>\n",
       "  </tbody>\n",
       "</table>\n",
       "</div>"
      ],
      "text/plain": [
       "           Sentiment Score\n",
       "word                      \n",
       "a+                       1\n",
       "abound                   1\n",
       "abounds                  1\n",
       "abundance                1\n",
       "abundant                 1"
      ]
     },
     "execution_count": 262,
     "metadata": {},
     "output_type": "execute_result"
    }
   ],
   "source": [
    "df_sentiment.head()"
   ]
  },
  {
   "cell_type": "markdown",
   "id": "6a5f3b12",
   "metadata": {},
   "source": [
    "## Sentiment Analysis on Songs\n",
    "\n",
    "In this section, score the sentiment for all the songs for both artists in your data set. Score the sentiment by manually calculating the sentiment using the combined lexicons provided in this repository. \n",
    "\n",
    "After you have calculated these sentiments, answer the questions at the end of this section.\n"
   ]
  },
  {
   "cell_type": "code",
   "execution_count": 9,
   "id": "0898911a",
   "metadata": {},
   "outputs": [],
   "source": [
    "def lyrics_clean_and_tokenize(text):\n",
    "    \n",
    "    # Remove punctuation characters\n",
    "    text = text.translate(str.maketrans(\"\", \"\", string.punctuation))\n",
    "    \n",
    "    #split on whitespace\n",
    "    tokens= text.split()\n",
    "    \n",
    "    \n",
    "    # Convert the text to lowercase\n",
    "    text = text.lower()\n",
    "    \n",
    "    #remove stopwords \n",
    "    stop_words = set(stopwords.words('english'))\n",
    "    rm_stopwords= [token for token in tokens if token not in stop_words]\n",
    "    \n",
    "    return rm_stopwords \n",
    "\n",
    "cleaned_lyrics= {}\n",
    "cleaned_lyrics2= {}\n",
    "\n",
    "for artist, artist_lyrics in lyrics.items():\n",
    "    cleaned_lyrics[artist] = {}\n",
    "    for song,song_lyrics in artist_lyrics.items():\n",
    "        if song_lyrics:  # check if lyrics is not empty\n",
    "            cleaned_lyrics[artist][song]= lyrics_clean_and_tokenize(song_lyrics)\n",
    "            cleaned_lyrics2[song]= lyrics_clean_and_tokenize(song_lyrics)"
   ]
  },
  {
   "cell_type": "code",
   "execution_count": 281,
   "id": "549cb4c6",
   "metadata": {},
   "outputs": [],
   "source": [
    "def sentiment(tokens, positive_words, negative_words, text_sentiments):\n",
    "    p_count = sum([1 for token in tokens if token in positive_words])\n",
    "    n_count = sum([1 for token in tokens if token in negative_words])\n",
    "    sentiment_score = p_count - n_count\n",
    "    for token_sentiment in text_sentiments:\n",
    "        if token_sentiment == \"positive\":\n",
    "            sentiment_score += 1\n",
    "        elif token_sentiment == \"negative\":\n",
    "            sentiment_score -= 1\n",
    "    return sentiment_score\n",
    "\n",
    "# Loop over the songs for both artists\n",
    "a = []\n",
    "for artist in cleaned_lyrics:\n",
    "    for song in cleaned_lyrics[artist]:\n",
    "        # Calculate the sentiment score for the song\n",
    "        song_score = sentiment(cleaned_lyrics[artist][song], positive_words, negative_words, text_sentiments)\n",
    "        a.append([artist,song,song_score])\n",
    "        \n",
    "\n",
    "df_songScore = pd.DataFrame(a, columns=['artist', 'song', 'score'])\n",
    "\n",
    "\n"
   ]
  },
  {
   "cell_type": "code",
   "execution_count": 282,
   "id": "9009bb19",
   "metadata": {
    "scrolled": true
   },
   "outputs": [
    {
     "name": "stdout",
     "output_type": "stream",
     "text": [
      "  artist                      song  score\n",
      "0   cher                 88degrees      5\n",
      "1   cher  adifferentkindoflovesong     14\n",
      "2   cher                  afterall     -2\n",
      "3   cher                     again      1\n",
      "4   cher                     alfie      7\n"
     ]
    }
   ],
   "source": [
    "print(df_songScore.head())"
   ]
  },
  {
   "cell_type": "code",
   "execution_count": 13,
   "id": "0aecb671",
   "metadata": {},
   "outputs": [
    {
     "data": {
      "text/html": [
       "<div>\n",
       "<style scoped>\n",
       "    .dataframe tbody tr th:only-of-type {\n",
       "        vertical-align: middle;\n",
       "    }\n",
       "\n",
       "    .dataframe tbody tr th {\n",
       "        vertical-align: top;\n",
       "    }\n",
       "\n",
       "    .dataframe thead th {\n",
       "        text-align: right;\n",
       "    }\n",
       "</style>\n",
       "<table border=\"1\" class=\"dataframe\">\n",
       "  <thead>\n",
       "    <tr style=\"text-align: right;\">\n",
       "      <th></th>\n",
       "      <th>score</th>\n",
       "    </tr>\n",
       "    <tr>\n",
       "      <th>artist</th>\n",
       "      <th></th>\n",
       "    </tr>\n",
       "  </thead>\n",
       "  <tbody>\n",
       "    <tr>\n",
       "      <th>cher</th>\n",
       "      <td>2.373418</td>\n",
       "    </tr>\n",
       "    <tr>\n",
       "      <th>robyn</th>\n",
       "      <td>1.355769</td>\n",
       "    </tr>\n",
       "  </tbody>\n",
       "</table>\n",
       "</div>"
      ],
      "text/plain": [
       "           score\n",
       "artist          \n",
       "cher    2.373418\n",
       "robyn   1.355769"
      ]
     },
     "execution_count": 13,
     "metadata": {},
     "output_type": "execute_result"
    }
   ],
   "source": [
    "#Q: Overall, which artist has the higher average sentiment per song? \n",
    "avg_sentiment = df_songScore.groupby(['artist']).mean()\n",
    "avg_sentiment"
   ]
  },
  {
   "cell_type": "code",
   "execution_count": 286,
   "id": "23c7fcdb",
   "metadata": {},
   "outputs": [
    {
     "name": "stdout",
     "output_type": "stream",
     "text": [
      "highest sentiment: \n",
      "    artist                  song  score\n",
      "198   cher            perfection     46\n",
      "181   cher                mylove     44\n",
      "155   cher  loveandunderstanding     38\n",
      "\n",
      "\n",
      "\n",
      "lowest sentiment: \n",
      "    artist                     song  score\n",
      "133   cher  iwalkonguildedsplinters    -26\n",
      "196   cher               outrageous    -20\n",
      "139   cher                    julie    -18\n"
     ]
    }
   ],
   "source": [
    "#For your first artist, what are the three songs that have the highest and lowest sentiments?\n",
    "\n",
    "cher=df_songScore[df_songScore['artist']=='cher']\n",
    "\n",
    "cher_hs = cher.sort_values(by='score', ascending=False)[:3]\n",
    "cher_ls = cher.sort_values(by='score', ascending=True)[:3]\n",
    "\n",
    "print(f\"highest sentiment: \\n{cher_hs}\")\n",
    "print('\\n\\n')\n",
    "print(f\"lowest sentiment: \\n{cher_ls}\")\n",
    "\n"
   ]
  },
  {
   "cell_type": "code",
   "execution_count": 15,
   "id": "0f850f61",
   "metadata": {},
   "outputs": [
    {
     "name": "stdout",
     "output_type": "stream",
     "text": [
      "Top 3 songs with the highest sentiments\n",
      "\n",
      "perfection : \"Perfection\"Hush little Baby, gotta be strong'Cause in this world we are born to fightBe the best, prove them wrongA winner's work is never done, reach the top, number oneOh, perfectionYou drive me crazy with perfectionI've worn my pride as my protectionPerfection, ohhI was taught to be toughThat the best that you can be ain't enoughCrack the whip, sacrificeBut I found out paradise had a priceI didn't know it then, but oh I know it nowYou gotta work as hard as love to make the love work outYou know this heart of mine has made some big mistakesI guess that when it comes to love, I just don't know what I takesAll my life I've been driven by perfectionPushed it to the limit every day and nightOhh, I've been driven by perfectionBut nothing's perfect when love ain't rightNothing's perfect when the love ain't rightGave it all, played my partI gave everything I had but my heartWorked so hard, made a nameBut the loneliness inside stays the sameWhen love is here today, and then it's gone todayYou got a list of lovers lookin' like a resumeYou gotta take some time to make it something realI guess that when it comes to love, I just don't know how to feelAll my life I've been driven by perfectionPushed it to the limit every day and nightOhh, I've been driven by perfectionBut nothing's perfect when love ain't rightNothing's perfect when the love ain't rightOh, perfectionYou drive me crazy with perfectionI've worn my pride as my protectionI'm goin' crazy with perfectionOhh, I didn't know it then, but oh I know it nowYou gotta work as hard as love to make the love work outYou know this heart of mine has made some big mistakesI guess that when it comes to love, I just don't know what I takesI've been driven by perfectionPushed it to the limit every day and nightOhh, I've been driven by perfectionBut nothing's perfect when love ain't rightAll my life I've been driven by perfectionPushed it to the limit every day and nightOhh, I've been driven by perfectionBut nothing's perfect when love ain't rightAll my life I've been driven by perfectionPushed it to the limit every day and nightOhh, I've been driven by perfectionBut nothing's perfect when love ain't rightAll my life I've been driven by perfection \n",
      "\n",
      "my love : \"My Love\"When I go awayI know my heart can stay with my loveIt's understoodEverywhere with my loveMy love does it good, whoaMy love, oh only my loveMy love does it goodAnd when the cupboard's bareI'll still find something there with my loveIt's understoodEverywhere with my loveMy love does it so good, whoaMy love, oh only my loveMy love does it goodOnly my love, oh only my loveOnly my love, hold the other things to meOh, only my love, oh only my loveOnly my love does it good to meEverywhere with my loveDon't you see my loveIt does it so goodOh, only my love, only my loveMy love does it goodDon't ever ask me whyI never say \"good-bye\" to my loveIt's understood'Cause everywhere with my loveMy love does it good, whoaOnly my love, oh only my loveMy love does it goodOh only my loveOnly my love does it good to me,whoa \n",
      "\n",
      "love and understanding : \"Love And Understanding\"Here, here in this worldWhere do we go? Where can we turn?When we need some loveIt seems that love just can't be foundWhere, where do we stand?When love's supply don't meet love's demandWe got enough stars to light the sky at nightEnough sun to make to make the whole world brightWe got more than enoughBut there's one thing there's just not enough ofNot enough love and understandingWe could use some love to ease these troubled timesNot enough love and understandingWhy, oh why?Spend all of our timeBuilding buildings up to the skyReaching everywhereBut where we need to reach the mostHearts never can winOh, in this race, this race that we're inWe've got enough cars to drive around the worldEnough planes to take us anywhereWe got more than enoughBut there's one thing there's just not enough ofNot enough love and understandingWe could use some love to ease these troubled timesNot enough love and understandingWhy, oh why?Not enough love and understandingWe could use some love to ease these troubled timesNot enough love and understandingWhy, oh why?We need some understandin'We need a little more loveSome love and understandin'Enough stars to light the sky at nightEnough sun to make the whole world brightEnough hearts to find some love insideWe got more than enoughBut there's one thing there's just not enough ofNot enough love and understandingWe could use some love to ease these troubled timesNot enough love and understandingWhy, oh why?...\n"
     ]
    }
   ],
   "source": [
    "#Print the lyrics of those songs to the screen.\n",
    "#What do you think is driving the sentiment score\n",
    "print(\"Top 3 songs with the highest sentiments\\n\")\n",
    "print(\"perfection :\",lyrics['cher']['perfection'].replace('\\n', ''),\"\\n\")\n",
    "print(\"my love :\",lyrics['cher']['mylove'].replace('\\n', ''),\"\\n\")\n",
    "print(\"love and understanding :\",lyrics['cher']['loveandunderstanding'].replace('\\n', ''))\n"
   ]
  },
  {
   "cell_type": "code",
   "execution_count": 16,
   "id": "ceac9fac",
   "metadata": {},
   "outputs": [
    {
     "name": "stdout",
     "output_type": "stream",
     "text": [
      "Top 3 songs with the lowest sentiments\n",
      "\n",
      "I walk on guilded splinters : \"I Walk On Guilded Splinters\"Some people think they jive me, but I know they must be crazyThey can't see their misfortune, or else they're just too lazyJe suie le grand zombieWith my yellow chaffen of choisenAin't afraid of no tomcat and gonna fill my guts with poisonI walk through the fireAnd I'll fly through the smokeI wanna see my enemiesOn the end of my ropeWalk on pins and needlesAnd I see what they can doWalk on guilded splintersWith the King of the ZuluCome to me, get it, come, comeWalk on guilded splintersCome to me, get it, come, comeWalk on guilded splintersTill I burn upTill I burn upTill I burn upTill I burn upWhen I roll out in my coffinDrink poison in my chalicePride begins to fadeAnd you all feel my maliceI put gris-gris on your doorstepSo soon you be in the gutterI'll make your heart melt like butterI say I can make you stutterCome to me, get it, come, comeWalk on guilded splintersCome to me, get it, come, comeWalk on guilded splintersTill I burn upTill I burn upTill I burn upTill I burn upCome to me, get it, come, comeWalk on guilded splintersCome to me, get it, come, comeWalk on guilded splintersTill I burn upTill I burn upTill I burn upTill I burn upCome to me, get it, come, comeWalk on guilded splintersCome to me, get it, come, comeWalk on guilded splintersTill I burn upTill I burn upTill I burn upTill I burn up \n",
      "\n",
      "outrageous : \"Outrageous\"Outrageous, outrageous(They say) I'm outrageousIt's the rageI'm gonna wear what I will and spend someAnd I will be dress to kill don'tcha knowAnd when the lights come upI'm ready I'm readyTo put on a show with classAnd if I clash it's cause I want toWhat a show and I want everyone to knowThey're gonna fly up, get an eyefulEverything that's craved from meI'm gonna be, I'm gonna be outrageousOutrageous(They say) I'm outrageousIt's the rage it's the rageWith my long black hair hanging way down to myAsk me no questions and I'll tell you no liesDon't tell me what to do don't tell me what to beSee I don't trust anybody else's traits about make-up and meWell in my show I let everything goIs what you want is whatcha wanna see from meBut when the curtain comes downAnd you're on your way back homeI change into my jeans that are split at the seamI grab my funky black jacket and make quite a racketYou drive like you're an outlawCause everything that's craved from meI'm gonna be, I'm gonna be outrageousSo outrageousI'm outrageous honey yes a rageIt's the rageOutrageous, outrageousI'm outrageousIt's the rage it's a rageOutrageous, outrageousThey say I'm outrageous \n",
      "\n",
      "julie : \"Julie\"Cheap lips lie into hungry ears Well backsliding Julie borned in the air Riding away on the horses That run through my life You think I'm tough Just watching your game But Julie you're messing With a naked flame I'm a dangerous rain That wash all your lies away Well I now know, Julie you're the shape of sin But I can strut like Bowie, When the line dance begins So cool it Julie or I'm gonna do you in Julie, Julie why do you taunt me Julie, Julie you're lying Julie, Julie Why do you haunt me Julie, oh Julie you lying bitchWell you think I'm just flying With strings of a kite But Julie I hope your knots are all tight I'm flying higher And I am the one holding the knife He's all that I got And he's all that I want Well Julie for the last time Enough is enough Take it from me You'll meet no meaner woman, no Julie, Julie why do you taunt me Julie, Julie you're lying Julie, Julie Why do you haunt me Julie, oh Julie you lying bitchJulie, Julie why do you taunt me Julie, Julie you're lying Julie, Julie Why do you haunt me Julie, oh Julie you lying bitch\n"
     ]
    }
   ],
   "source": [
    "#Print the lyrics of those songs to the screen.\n",
    "#What do you think is driving the sentiment score\n",
    "print(\"Top 3 songs with the lowest sentiments\\n\")\n",
    "print(\"I walk on guilded splinters :\",lyrics['cher']['iwalkonguildedsplinters'].replace('\\n', ''),\"\\n\")\n",
    "print(\"outrageous :\",lyrics['cher']['outrageous'].replace('\\n', ''),\"\\n\")\n",
    "print(\"julie :\",lyrics['cher']['julie'].replace('\\n', ''))\n"
   ]
  },
  {
   "cell_type": "code",
   "execution_count": 17,
   "id": "d7368176",
   "metadata": {},
   "outputs": [
    {
     "name": "stdout",
     "output_type": "stream",
     "text": [
      "    artist                           song  score\n",
      "380  robyn                     loveisfree     67\n",
      "367  robyn                 indestructible     27\n",
      "368  robyn  indestructibleacousticversion     23\n",
      "\n",
      "\n",
      "\n",
      "    artist                             song  score\n",
      "343  robyn  dontfuckingtellmewhattodo114520    -78\n",
      "342  robyn        dontfuckingtellmewhattodo    -78\n",
      "334  robyn                   criminalintent    -46\n"
     ]
    }
   ],
   "source": [
    "#For your second artist, what are the three songs that have the highest and lowest sentiments?\n",
    "\n",
    "robyn=df_songScore[df_songScore['artist']=='robyn']\n",
    "\n",
    "robyn_hs = robyn.sort_values(by='score', ascending=False)[:3]\n",
    "robyn_ls = robyn.sort_values(by='score', ascending=True)[:3]\n",
    "\n",
    "print(robyn_hs)\n",
    "print('\\n\\n')\n",
    "print(robyn_ls)\n"
   ]
  },
  {
   "cell_type": "code",
   "execution_count": 18,
   "id": "bd7272ee",
   "metadata": {},
   "outputs": [
    {
     "name": "stdout",
     "output_type": "stream",
     "text": [
      "Top 3 songs with the highest sentiments\n",
      "\n",
      "love is free : \"Love Is Free\"FreeLove is free, babyFreeLove is free, babyBoom boom boom boom boom chica boomLet me give it to you, babyChica boom chica boom chica boomChica boom chica boom chica boomFreeLove is free, babyFreeLove is free, babyBoom boom boom boom boom chica boomLet me give it to you, babyI'ma give it to you, babyI'ma give it when I'm readySome lose, some steadySome light, some heavyIt's all over this citySometimes in the ugly, sometimes in the prettyYou never know where you get it cause you can't control it and you can't unfold it, slow downI'ma give it to you, babyI'ma give it when I'm readySome lose, some steadySome light, some heavyIt's all over this citySometimes in the ugly, sometimes in the prettyYou never know where you get it cause you can't control it and you can't unfold it, slow downFreeLove is free, babyFreeLove is free, babyBoom boom boom boom boom chica boomLet me give it to you, babyYeah! Yeah! Yeah! Yeah!Love is free, babyLove is free, babyI'ma give it to you, babyI'ma give it like a mothaSafe like a rubberMutter like a stutterIt's all over this citySometimes in the nitty, sometimes in the grittyYou know I'ma give it to you betterI'ma give you love foreverNo, you can't control it, slow downI'ma give it to you, babyI'ma give it like a mothaSafe like a rubberMutter like a stutterIt's all over this citySometimes in the nitty, sometimes in the grittyYou know I'ma give it to you betterI'ma give you love foreverNo, you can't control it, slow downFreeLove is free, babyFreeLove is free, babyBoom boom boom boom boom chica boomLet me give it to you, babyBoom boom boom boom boomChica boom chica boom chica boomBoom boom boom boom boomChica boom chica boom chica boomFreeLove is free, babyFreeLove is free, babyAprÃƒÂ©ndelo, aprÃƒÂ©ndeloTe lo digo right now, sÃƒÂ³lo entiÃƒÂ©ndeloAprÃƒÂ©ndelo, aprÃƒÂ©ndeloTe lo digo right now, sÃƒÂ³lo entiÃƒÂ©ndeloSlow downAprÃƒÂ©ndelo, aprÃƒÂ©ndeloTe lo digo right now, sÃƒÂ³lo entiÃƒÂ©ndeloAprÃƒÂ©ndelo, aprÃƒÂ©ndeloTe lo digo right now, sÃƒÂ³lo entiÃƒÂ©ndeloSlow downI'ma give it to you, babyI'ma give it when I'm readySome lose, some steadySome light, some heavyIt's all over this citySometimes in the ugly, sometimes in the prettyYou never know where you get it cause you can't control it and you can't unfold it, slow downSlow down [x6]FreeLove is free, babyLove is free, babySo free [x4]You knowLove is freeSo freeFree Ã¢Â€Â“ Love is free, baby [x8]So free \n",
      "\n",
      "indestructible : \"Indestructible\"I'm going backwards through time at the speed of lightI'm yours, you're mineTwo satellitesNot aloneNo, we're not aloneA freeze-frame of your eye in the strobe lightSweat dripping down from your browHold tightDon't let goDon't you let me goAnd I never was smart with loveI let the bad ones in and the good ones goBut I'm gonna love you like I've never been hurt beforeI'm gonna love you like I'm indestructibleYour love is ultramagneticAnd it's taking overThis is hardcoreAnd I'm indestructibleHands up in the air like we don't careWe're shooting deep into spaceAnd the lasers split the darkCut right through the darkIt's just us. We ignore the crowd dancingFall to the floorBeats in my heartPut your hands on my heartAnd I never was smart with loveI let the bad ones in and the good ones goBut I'm gonna love you like I've never been hurt beforeI'm gonna love you like I'm indestructibleYour love is ultramagneticAnd it's taking overThis is hardcoreOoh and I'm gonna love you likeI'm gonna love you like I've never been hurt beforeI'm gonna love you like I'm indestructibleYour love is ultramagneticAnd it's taking overThis is hardcoreAnd I'm indestructibleAnd I never was smart with loveI let the bad ones in and the good ones goBut I'm gonna love you like I've never been hurt beforeI'm gonna love you like I'm indestructibleYour love is ultramagneticAnd it's taking overThis is hardcoreOoh and I'm gonna love you likeI'm gonna love you like I've never been hurt beforeI'm gonna love you like I'm indestructibleYour love is ultramagneticAnd it's taking overThis is hardcoreAnd I'm indestructible \n",
      "\n",
      "indestructible acoustic version : \"Indestructible (Acoustic Version)\"I'm going backwards through time at the speed of lightI'm yours, you're mine, two satellitesNot aloneNo, we're not aloneA freeze-frame of your eye in the strobelightSweat dripping down from your brow, hold tight Don't let goDon't you let me goAnd I never was smart with loveI let the bad ones in and the good ones goBut I'm gonna love you like I've never been hurt beforeI'm gonna love you like I'm indestructibleYour love is ultra magnetic and it's taking overThis is hardcoreAnd I'm indestructibleHands up in the air like we don't careWe're shooting deep into spaceAnd the lasers split the darkCut right through the darkIt's just us, we ignore the crowd dancingFall to the floorBeats in my heartPut your hands on my heartAnd I never was smart with loveI let the bad ones in and the good ones goBut I'm gonna love you like I've never been hurt beforeI'm gonna love you like I'm indestructibleYour love is ultra magnetic and it's taking overThis is hardcoreOoh and I'm gonna love you likeLike I've never been hurt beforeI'm gonna love you like I'm indestructibleYour love is ultra magnetic and it's taking overThis is hardcoreAnd I'm indestructibleAnd I never was smart with loveI let the bad ones in and the good ones goBut I'm gonna love you like I've never been hurt beforeI'm gonna love you like I'm indestructibleYour love is ultra magnetic and it's taking overThis is hardcoreOoh and I'm gonna love you likeLike I've never been hurt beforeI'm gonna love you like I'm indestructibleYour love is ultra magnetic and it's taking overThis is hardcoreAnd I'm indestructible\n"
     ]
    }
   ],
   "source": [
    "#Print the lyrics of those songs to the screen.\n",
    "#What do you think is driving the sentiment score\n",
    "print(\"Top 3 songs with the highest sentiments\\n\")\n",
    "print(\"love is free :\",lyrics['robyn']['loveisfree'].replace('\\n', ''),\"\\n\")\n",
    "print(\"indestructible :\",lyrics['robyn']['indestructible'].replace('\\n', ''),\"\\n\")\n",
    "print(\"indestructible acoustic version :\",lyrics['robyn']['indestructibleacousticversion'].replace('\\n', ''))"
   ]
  },
  {
   "cell_type": "code",
   "execution_count": 19,
   "id": "aa1a18f4",
   "metadata": {},
   "outputs": [
    {
     "name": "stdout",
     "output_type": "stream",
     "text": [
      "Top 3 songs with the highest sentiments\n",
      "\n",
      "dont fucking tell me what to do 114520 : \"Don't Fucking Tell Me What To Do\"My drinking is killing meMy drinking is killing meMy drinking is killing meMy drinking is killing meMy drinking is killing meMy drinking is killing meMy drinking is killing meMy drinking is killing meMy drinking is killing meMy drinking is killing meMy drinking is killing meMy drinking is killing meMy drinking is killing meMy drinking is killing meMy drinking is killing meMy smoking is killing meMy diet is killing meMy heels are killing meMy shopping's killing meMy ego is killing meCan't sleep, it's killing meMy label's killing meKickdrumMy phone is killing meMy email is killing meThese hours are killing meMy tour is killing meThis flight is killing meMy manager's killing meMy mother's killing meMy landlord's killing meMy boss is killing meThe TV is killing meYour nagging is killing meMy boyfriend's killing meMy talking's killing meKilling meKilling meCan't sleep, it's killing meMy dreams are killing meTV is killing meMy talking's killing meLet go, you're killing meEase up, you're killing meCalm down, you're killing meMy god, you're killing meMy drinking is killing meMy smoking is killing meMy head is killing meMy mind is killing meMy back is killing meMy neck is killing meYour nagging is killing meMy gut is killing meMy PMS is killing meMy email is killing meThese hours are killing meMy tour is killing meThis flight is killing meMy manager's killing meMy mother's killing meMy landlord's killing meMy smoking is killing meThe TV is killing meYour nagging is killing meEase up, you're killing meLet go, you're killing meCalm down, you're killing meMy god, you're killing meDon't fucking tell me what to do, doDon't fucking tell me what to do, do, do, do, doDon't fucking tell me what to doDon't fucking tell me what to do, doDon't fucking tell me what to do, doDon't fucking tell me what to doDon't fucking tell me what to doDon't fucking tell me what to doDon't fucking tell me what to do \n",
      "\n",
      "dont fucking tell me what to do : \"Don't Fucking Tell Me What To Do\"My drinking is killing meMy drinking is killing meMy drinking is killing meMy drinking is killing meMy drinking is killing meMy drinking is killing meMy drinking is killing meMy drinking is killing meMy drinking is killing meMy drinking is killing meMy drinking is killing meMy drinking is killing meMy drinking is killing meMy drinking is killing meMy drinking is killing meMy smoking is killing meMy diet is killing meMy heels are killing meMy shopping's killing meMy ego is killing meCan't sleep, it's killing meMy label's killing meKickdrumMy phone is killing meMy email is killing meThese hours are killing meMy tour is killing meThis flight is killing meMy manager's killing meMy mother's killing meMy landlord's killing meMy boss is killing meThe TV is killing meYour nagging is killing meMy boyfriend's killing meMy talking's killing meKilling meKilling meCan't sleep, it's killing meMy dreams are killing meTV is killing meMy talking's killing meLet go, you're killing meEase up, you're killing meCalm down, you're killing meMy god, you're killing meMy drinking is killing meMy smoking is killing meMy head is killing meMy mind is killing meMy back is killing meMy neck is killing meYour nagging is killing meMy gut is killing meMy PMS is killing meMy email is killing meThese hours are killing meMy tour is killing meThis flight is killing meMy manager's killing meMy mother's killing meMy landlord's killing meMy smoking is killing meThe TV is killing meYour nagging is killing meEase up, you're killing meLet go, you're killing meCalm down, you're killing meMy god, you're killing meDon't fucking tell me what to do, doDon't fucking tell me what to do, do, do, do, doDon't fucking tell me what to doDon't fucking tell me what to do, doDon't fucking tell me what to do, doDon't fucking tell me what to doDon't fucking tell me what to doDon't fucking tell me what to doDon't fucking tell me what to do \n",
      "\n",
      "criminal intent : \"Criminal Intent\"Somebody alert the authorities, I got criminal intentConspiracy to engage in lewd and indecent acts and eventsI'mma wind it, grind it, oh my, I'mma say it againSomebody alert the authorities, she's got criminal intentSomebody alert the authorities, I got criminal intentConspiracy to engage in lewd and indecent acts and eventsI'mma wind it, grind it, oh my, I'mma say it againSomebody alert the authorities, she's got criminal intentSomebody alert the authorities, I got criminal intentConspiracy to engage in lewd and indecent acts and eventsI'mma wind it, grind it, oh my, I'mma say it againSomebody alert the authorities, I got criminal intent- Will the defendant please rise? State your full name for the record.- Robyn- Do you wish to say anything before the sentence is imposed?- I do your Honor!You know, from time to timeI need to get downUnwind and just bump and grindGet my shot on, have some funA little dirty never hurt anyoneI admit, I can get somewhat X-rated on the floorBut your Honor, how's that something you get incarcerated for?I-I-I done nothing that's wrong ?? something that's frowned uponI object most strongly Judge, they played my songSomebody alert the authorities, I got criminal intentConspiracy to engage in lewd and indecent acts and eventsI'mma wind it, grind it, oh my, I'mma say it againSomebody alert the authorities, she's got criminal intentSomebody alert the authorities, I got criminal intentConspiracy to engage in lewd and indecent acts and eventsI'mma wind it, grind it, oh my, I'mma say it againSomebody alert the authorities, I got criminal intentSomebody alert the authorities, she's got criminal intentY-yo-yo Judge, may the record reflect the fact I don't have any priorsBesides, would you pardon me For being inappropriately attired?But yo, listen, them cuffs down at countyTotally ripped up my pantyhoseAnd some snitch punk at legal aidStole my voucher for court clothesI done nothing that's wrong ?? something that's frowned uponI object most strongly Judge, they played my songSomebody alert the authorities, I got criminal intentConspiracy to engage in lewd and indecent acts and eventsI'mma wind it, grind it, oh my, I'mma say it againSomebody alert the authorities, she's got criminal intentSomebody alert the authorities, I got criminal intentConspiracy to engage in lewd and indecent acts and eventsI'mma wind it, grind it, oh my, I'mma say it againSomebody alert the authorities, I got criminal intentSomebody alert the authorities, she's got criminal intent\n"
     ]
    }
   ],
   "source": [
    "#Print the lyrics of those songs to the screen.\n",
    "#What do you think is driving the sentiment score\n",
    "print(\"Top 3 songs with the highest sentiments\\n\")\n",
    "print(\"dont fucking tell me what to do 114520 :\",lyrics['robyn']['dontfuckingtellmewhattodo114520'].replace('\\n', ''),\"\\n\")\n",
    "print(\"dont fucking tell me what to do :\",lyrics['robyn']['dontfuckingtellmewhattodo'].replace('\\n', ''),\"\\n\")\n",
    "print(\"criminal intent :\",lyrics['robyn']['criminalintent'].replace('\\n', ''))"
   ]
  },
  {
   "cell_type": "code",
   "execution_count": 20,
   "id": "d279ab12",
   "metadata": {},
   "outputs": [
    {
     "data": {
      "image/png": "[encoded data removed]",
      "text/plain": [
       "<Figure size 432x288 with 1 Axes>"
      ]
     },
     "metadata": {
      "needs_background": "light"
     },
     "output_type": "display_data"
    }
   ],
   "source": [
    "# Plot the distributions of the sentiment scores for both artists.\n",
    "#You can use `seaborn` to plot densities or plot histograms in matplotlib.\n",
    "plt.hist(cher['score'], bins=20, alpha=0.5, label='Cher')\n",
    "plt.hist(robyn['score'], bins=20, alpha=0.5, label='Robyn')\n",
    "plt.title('Sentiment Score Histogram')\n",
    "plt.xlabel('Sentiment Score')\n",
    "plt.ylabel('Count')\n",
    "plt.legend()\n",
    "plt.show()"
   ]
  },
  {
   "cell_type": "markdown",
   "id": "1f8334f4",
   "metadata": {},
   "source": [
    "### Questions\n",
    "\n",
    "Q: Overall, which artist has the higher average sentiment per song? \n",
    "\n",
    "A: Cher has the higher sentiment scores per song (2.37) compared to Robyn at (1.35). \n",
    "\n",
    "---\n",
    "\n",
    "Q: For your first artist, what are the three songs that have the highest and lowest sentiments? Print the lyrics of those songs to the screen. What do you think is driving the sentiment score? \n",
    "\n",
    "A: I believe that based on the lyrics the songs talk about love, determination and have high counts of words that we compared to positive words. While the songs that rank low their lyrics had more themes of struggle, loss, and relationship endings.  \n",
    "\n",
    "highest sentiment: perfection,  mylove, love and understanding\n",
    "\n",
    "lowest sentiment: iwalkonguildedsplinters, outrageous, julie\n",
    "\n",
    "\n",
    "---\n",
    "\n",
    "Q: For your second artist, what are the three songs that have the highest and lowest sentiments? Print the lyrics of those songs to the screen. What do you think is driving the sentiment score? \n",
    "\n",
    "For Robyn the highest sentiment songs themes and lyrics show celebration, self-empowerment, and love. While the lowest sentiment scoring songs included words like crime, conspiracy, and killing. Its worth nothing that robyn had two versions of the same song. \n",
    "\n",
    "higherst sentiment: loveisfree, indestructible, indestructibleacousticversion\n",
    "\n",
    "lowest sentiment:\n",
    "dont fucking tell me what to do114520, criminal intent, and dont fucking tell me what to do\n",
    "\n",
    "\n",
    "   \n",
    "---\n",
    "\n",
    "Q: Plot the distributions of the sentiment scores for both artists. You can use `seaborn` to plot densities or plot histograms in matplotlib.\n",
    "\n",
    "\n"
   ]
  },
  {
   "cell_type": "markdown",
   "id": "b3fe644d",
   "metadata": {},
   "source": [
    "## Sentiment Analysis on Twitter Descriptions\n",
    "\n",
    "In this section, define two sets of emojis you designate as positive and negative. Make sure to have at least 10 emojis per set. You can learn about the most popular emojis on Twitter at [the emojitracker](https://emojitracker.com/). \n",
    "\n",
    "Associate your positive emojis with a score of +1, negative with -1. Score the average sentiment of your two artists based on the Twitter descriptions of their followers. The average sentiment can just be the total score divided by number of followers. You do not need to calculate sentiment on non-emoji content for this section."
   ]
  },
  {
   "cell_type": "code",
   "execution_count": 21,
   "id": "a8ab943e",
   "metadata": {},
   "outputs": [],
   "source": [
    "def twitter_clean_and_tokenize(text):\n",
    "    \n",
    "    #punctuation characters except #'s'\n",
    "    text_without_hash = string.punctuation.replace(\"#\", \"\")\n",
    "    trans_table = str.maketrans(\"\", \"\", text_without_hash)\n",
    "\n",
    "    #remove punctuation\n",
    "    text = text.translate(trans_table)\n",
    "    \n",
    "    #split on whitespace\n",
    "    tokens= text.split()\n",
    "    \n",
    "    \n",
    "    # Convert the text to lowercase\n",
    "    text = text.lower()\n",
    "    \n",
    "    #remove stopwords \n",
    "    stop_words = set(stopwords.words('english'))\n",
    "    rm_stopwords= [token for token in tokens if token not in stop_words]\n",
    "    \n",
    "    return rm_stopwords \n",
    "\n",
    "# Iterate over the artists and their descriptions\n",
    "for artist, descriptions in artists.items():\n",
    "    cleaned_descriptions = []\n",
    "    for description in descriptions:\n",
    "        if description:  # check if empty\n",
    "            cleaned_descriptions.append(twitter_clean_and_tokenize(description))\n",
    "    artists[artist] = cleaned_descriptions"
   ]
  },
  {
   "cell_type": "code",
   "execution_count": 224,
   "id": "1a5c1d25",
   "metadata": {},
   "outputs": [],
   "source": [
    "# your code here\n",
    "# Load the positive and negative words\n",
    "with open('pos_emoji.txt', 'r',encoding='utf-8') as f:\n",
    "        positive_emoji = [line.strip() for line in f.readlines()]\n",
    "\n",
    "with open('neg_emoji.txt', 'r',encoding='utf-8') as f:\n",
    "    negative_emoji = [line.strip() for line in f.readlines()]\n",
    "\n",
    "\n",
    "\n"
   ]
  },
  {
   "cell_type": "code",
   "execution_count": 225,
   "id": "0d064b1a",
   "metadata": {},
   "outputs": [],
   "source": [
    "def sentiment(tokens, positive_emoji, negative_emoji):\n",
    "    p_count = sum([1 for token in tokens if token in positive_emoji])\n",
    "    n_count = sum([1 for token in tokens if token in negative_emoji])\n",
    "    return p_count, n_count\n",
    "\n"
   ]
  },
  {
   "cell_type": "code",
   "execution_count": 110,
   "id": "120d70f8",
   "metadata": {},
   "outputs": [],
   "source": [
    "# Loop over the describtions for both artists\n",
    "al = []\n",
    "for artist in artists:\n",
    "    for desc in artists[artist]:\n",
    "        desc_score = sentiment(desc, positive_emoji, negative_emoji)\n",
    "        #capture emoji\n",
    "        emojis = []\n",
    "        for char in desc:\n",
    "            if emoji.is_emoji(char):\n",
    "                emojis.append(char)\n",
    "        al.append([artist,emojis,desc_score])\n"
   ]
  },
  {
   "cell_type": "code",
   "execution_count": 228,
   "id": "22006c3f",
   "metadata": {},
   "outputs": [
    {
     "name": "stdout",
     "output_type": "stream",
     "text": [
      "Top 10 emojis used by cher:\n",
      "🏳️‍🌈: 270\n",
      "❤️: 230\n",
      "✨: 147\n",
      "💙: 111\n",
      "🇺🇸: 110\n",
      "❤: 104\n",
      "🌈: 84\n",
      "💜: 70\n",
      "🇺🇦: 64\n",
      "🖤: 62\n",
      "Top 10 emojis used by robyn:\n",
      "🏳️‍🌈: 797\n",
      "✨: 267\n",
      "🌈: 255\n",
      "❤️: 225\n",
      "🎶: 96\n",
      "💜: 89\n",
      "❤: 80\n",
      "🎧: 75\n",
      "🖤: 71\n",
      "🇺🇸: 70\n"
     ]
    }
   ],
   "source": [
    "emoji_count_by_artist = {}\n",
    "for item in al:\n",
    "    artist = item[0]\n",
    "    emojis = item[1]\n",
    "    desc_score = item[2]\n",
    "    if artist not in emoji_count_by_artist:\n",
    "        emoji_count_by_artist[artist] = {}\n",
    "    for emoji in emojis:\n",
    "        if emoji in emoji_count_by_artist[artist]:\n",
    "            emoji_count_by_artist[artist][emoji] += 1\n",
    "        else:\n",
    "            emoji_count_by_artist[artist][emoji] = 1\n",
    "for artist in emoji_count_by_artist:\n",
    "    sorted_emojis = sorted(emoji_count_by_artist[artist].items(), key=lambda x: x[1], reverse=True)\n",
    "    emoji_count_by_artist[artist] = sorted_emojis\n",
    "for artist in emoji_count_by_artist:\n",
    "    print(f\"Top 10 emojis used by {artist}:\")\n",
    "    for i in range(min(10, len(emoji_count_by_artist[artist]))):\n",
    "        emoji = emoji_count_by_artist[artist][i][0]\n",
    "        count = emoji_count_by_artist[artist][i][1]\n",
    "        print(f\"{emoji}: {count}\")\n",
    "\n"
   ]
  },
  {
   "cell_type": "code",
   "execution_count": 196,
   "id": "4a652424",
   "metadata": {},
   "outputs": [
    {
     "data": {
      "text/plain": [
       "34385"
      ]
     },
     "execution_count": 196,
     "metadata": {},
     "output_type": "execute_result"
    }
   ],
   "source": [
    "robyn_emoji=artists_emoji_sent[artists_emoji_sent['Artist']=='robyn']\n",
    "count_r=robyn_emoji.shape[0]\n",
    "count_r"
   ]
  },
  {
   "cell_type": "code",
   "execution_count": 116,
   "id": "3692b872",
   "metadata": {},
   "outputs": [
    {
     "name": "stdout",
     "output_type": "stream",
     "text": [
      "Cher's follower description emoji sentiment: 0.03442654028436019\n",
      "Robyn's follower description emoji sentiment: 0.03341573360476952\n"
     ]
    }
   ],
   "source": [
    "#number of follower desriptions for cher\n",
    "cher_emoji=artists_emoji_sent[artists_emoji_sent['Artist']=='cher']\n",
    "count_c=cher_emoji.shape[0]\n",
    "\n",
    "\n",
    "#number of follower desriptions for robyn\n",
    "robyn_emoji=artists_emoji_sent[artists_emoji_sent['Artist']=='robyn']\n",
    "count_r=robyn_emoji.shape[0]\n",
    "\n",
    "#You do not need to calculate sentiment on non-emoji content for this section.\n",
    "cher_emoji_total= cher_emoji['Score'].sum()\n",
    "cher_emoji_total\n",
    "\n",
    "robyn_emoji_total= robyn_emoji['Score'].sum()\n",
    "robyn_emoji_total\n",
    "\n",
    "#The average sentiment can just be the total score divided by number of followers.\n",
    "cher_sentiment= cher_emoji_total/count_c\n",
    "robyn_sentiment= robyn_emoji_total/count_r\n",
    "\n",
    "print(f\"Cher's follower description emoji sentiment: {cher_sentiment}\")\n",
    "print(f\"Robyn's follower description emoji sentiment: {robyn_sentiment}\")"
   ]
  },
  {
   "cell_type": "code",
   "execution_count": 240,
   "id": "fabe671e",
   "metadata": {},
   "outputs": [
    {
     "name": "stdout",
     "output_type": "stream",
     "text": [
      "cher: Most positive emoji - ❤️, Most negative emoji - 🙄\n",
      "robyn: Most positive emoji - ✨, Most negative emoji - 🤡\n"
     ]
    }
   ],
   "source": [
    "#Which positive emoji is the most popular for each artist? Which negative emoji?\n",
    "emoji_counts = {}\n",
    "\n",
    "# Loop through each artist in emoji_count_by_artist and update emoji_counts\n",
    "for artist, emoji_list in emoji_count_by_artist.items():\n",
    "    if artist not in emoji_counts:\n",
    "        emoji_counts[artist] = {'positive': {}, 'negative': {}}\n",
    "    \n",
    "    for emoji, count in emoji_list:\n",
    "        if emoji in positive_emoji:\n",
    "            emoji_counts[artist]['positive'][emoji] = count\n",
    "        elif emoji in negative_emoji:\n",
    "            emoji_counts[artist]['negative'][emoji] = count\n",
    "    \n",
    "    # Find the most common positive and negative emojis for this artist\n",
    "    pos_emoji = max(emoji_counts[artist]['positive'], key=emoji_counts[artist]['positive'].get)\n",
    "    neg_emoji = max(emoji_counts[artist]['negative'], key=emoji_counts[artist]['negative'].get)\n",
    "    \n",
    "    print(f\"{artist}: Most positive emoji - {pos_emoji}, Most negative emoji - {neg_emoji}\")\n",
    "\n"
   ]
  },
  {
   "cell_type": "code",
   "execution_count": 238,
   "id": "5b1c47c5",
   "metadata": {
    "scrolled": true
   },
   "outputs": [
    {
     "data": {
      "text/plain": [
       "{'cher': {'positive': {'❤️': 230,\n",
       "   '✨': 147,\n",
       "   '💙': 111,\n",
       "   '❤': 104,\n",
       "   '🌈': 84,\n",
       "   '💜': 70,\n",
       "   '🎶': 59,\n",
       "   '😊': 43,\n",
       "   '😂': 22},\n",
       "  'negative': {'🙄': 12,\n",
       "   '🤡': 5,\n",
       "   '🤬': 4,\n",
       "   '😢': 3,\n",
       "   '😕': 3,\n",
       "   '😒': 3,\n",
       "   '😱': 2,\n",
       "   '☹️': 1,\n",
       "   '😟': 1,\n",
       "   '🤢': 1,\n",
       "   '😥': 1,\n",
       "   '🚩': 1,\n",
       "   '😮': 1}},\n",
       " 'robyn': {'positive': {'✨': 267,\n",
       "   '🌈': 255,\n",
       "   '❤️': 225,\n",
       "   '🎶': 96,\n",
       "   '💜': 89,\n",
       "   '❤': 80,\n",
       "   '💙': 60,\n",
       "   '😊': 23,\n",
       "   '😂': 15,\n",
       "   '🏳': 1},\n",
       "  'negative': {'🤡': 11,\n",
       "   '🚩': 8,\n",
       "   '🙄': 5,\n",
       "   '😒': 3,\n",
       "   '🤬': 2,\n",
       "   '😮': 2,\n",
       "   '😱': 2,\n",
       "   '😢': 2,\n",
       "   '😟': 1,\n",
       "   '😕': 1,\n",
       "   '☹️': 1}}}"
      ]
     },
     "execution_count": 238,
     "metadata": {},
     "output_type": "execute_result"
    }
   ],
   "source": [
    "emoji_counts"
   ]
  },
  {
   "cell_type": "markdown",
   "id": "fb92eb93",
   "metadata": {},
   "source": [
    "Q: What is the average sentiment of your two artists? \n",
    "\n",
    "Cher's follower description emoji sentiment: 0.03442654028436019\n",
    "\n",
    "Robyn's follower description emoji sentiment: 0.03341573360476952\n",
    "\n",
    "---\n",
    "\n",
    "Q: Which positive emoji is the most popular for each artist? Which negative emoji? \n",
    "\n",
    "A: cher: Most positive emoji - ❤️, Most negative emoji - 🙄\n",
    "\n",
    "robyn: Most positive emoji - ✨, Most negative emoji - 🤡\n",
    "\n"
   ]
  },
  {
   "cell_type": "code",
   "execution_count": null,
   "id": "24852af1",
   "metadata": {},
   "outputs": [],
   "source": []
  }
 ],
 "metadata": {
  "kernelspec": {
   "display_name": "Python 3",
   "language": "python",
   "name": "python3"
  },
  "language_info": {
   "codemirror_mode": {
    "name": "ipython",
    "version": 3
   },
   "file_extension": ".py",
   "mimetype": "text/x-python",
   "name": "python",
   "nbconvert_exporter": "python",
   "pygments_lexer": "ipython3",
   "version": "3.8.8"
  }
 },
 "nbformat": 4,
 "nbformat_minor": 5
}
